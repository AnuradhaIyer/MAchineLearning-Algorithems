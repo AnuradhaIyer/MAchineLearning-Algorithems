{
 "cells": [
  {
   "cell_type": "code",
   "execution_count": 8,
   "metadata": {},
   "outputs": [],
   "source": [
    "import numpy as np\n",
    "import matplotlib.pyplot as plt\n",
    "import pandas as pd"
   ]
  },
  {
   "cell_type": "code",
   "execution_count": 9,
   "metadata": {},
   "outputs": [],
   "source": [
    "# import the data from a file and process the missing fields\n",
    "data =pd.read_csv(\"ML_Course_HW_1.csv\")\n",
    "# Check if there are any missing values in the data and fill them with medians of the same column\n",
    "missing = data.isna().sum()\n",
    "data = data.fillna( data.median() )"
   ]
  },
  {
   "cell_type": "code",
   "execution_count": 10,
   "metadata": {},
   "outputs": [
    {
     "name": "stdout",
     "output_type": "stream",
     "text": [
      "BALANCE   :  0.0 19043.13856 873.385231\n",
      "PURCHASES :  0.0 49039.57 361.28\n"
     ]
    }
   ],
   "source": [
    "print(\"BALANCE   : \",data[\"BALANCE\"].min(),data[\"BALANCE\"].max(),data[\"BALANCE\"].median())\n",
    "print(\"PURCHASES : \",data[\"PURCHASES\"].min(),data[\"PURCHASES\"].max(),data[\"PURCHASES\"].median())"
   ]
  }
 ],
 "metadata": {
  "kernelspec": {
   "display_name": "Python 3",
   "language": "python",
   "name": "python3"
  },
  "language_info": {
   "codemirror_mode": {
    "name": "ipython",
    "version": 3
   },
   "file_extension": ".py",
   "mimetype": "text/x-python",
   "name": "python",
   "nbconvert_exporter": "python",
   "pygments_lexer": "ipython3",
   "version": "3.6.5"
  }
 },
 "nbformat": 4,
 "nbformat_minor": 2
}
